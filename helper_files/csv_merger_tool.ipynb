{
 "cells": [
  {
   "cell_type": "code",
   "execution_count": 1,
   "metadata": {},
   "outputs": [],
   "source": [
    "# Importing the required libraries\n",
    "import os\n",
    "import glob\n",
    "import pandas as pd\n",
    "\n",
    "# Change directory if necessary to where all csv files are stored.\n",
    "# os.chdir('/mydir')"
   ]
  },
  {
   "cell_type": "code",
   "execution_count": 53,
   "metadata": {},
   "outputs": [],
   "source": [
    "def merge_csvs(cols_to_merge_on, extension):\n",
    "    \n",
    "    # Get the list of all files\n",
    "    all_filenames = [i for i in glob.glob('*.{}'.format(extension))]\n",
    "    print('Merging the following files ...',all_filenames)\n",
    "    \n",
    "    # Read the first file to form the base for merging.\n",
    "    d0 = pd.read_csv(all_filenames[0])\n",
    "\n",
    "    # From the second file to last, iterate though all of them\n",
    "    for i in range (1, len(all_filenames)):\n",
    "\n",
    "        # Read every file into a dataframe object\n",
    "        dn = pd.read_csv(all_filenames[i], usecols=lambda x: x not in cols_to_merge_on )\n",
    "        \n",
    "        # Contatenate on Column Axis (1) \n",
    "        d0 = pd.concat([d0, dn], axis=1)\n",
    "        \n",
    "        # Drop Null Values\n",
    "        result = d0.dropna()\n",
    "    \n",
    "    # Return the final combined dataframe\n",
    "    return result"
   ]
  },
  {
   "cell_type": "code",
   "execution_count": 54,
   "metadata": {},
   "outputs": [
    {
     "name": "stdout",
     "output_type": "stream",
     "text": [
      "Merging the following files ... ['Gravity_Model_1.csv', 'DEM-9s_Model_1.csv', 'SA_TMI_Model_1.csv', 'Gravity_1VD_Model_1.csv', 'SA_TMI_VRTP_Model_1.csv', 'D8-9s_Model_1.csv']\n"
     ]
    }
   ],
   "source": [
    "# Specify the columns to merge on\n",
    "cols = ['LONGITUDE_','LATITUDE_G','MINERAL_CL']\n",
    "\n",
    "# Merge the files using the above defined funtion\n",
    "merged = merge_csvs(cols, 'csv')"
   ]
  },
  {
   "cell_type": "code",
   "execution_count": 55,
   "metadata": {},
   "outputs": [],
   "source": [
    "# Save the merged csv\n",
    "merged.to_csv('Model1_Merged.csv')"
   ]
  }
 ],
 "metadata": {
  "kernelspec": {
   "display_name": "Python 3",
   "language": "python",
   "name": "python3"
  },
  "language_info": {
   "codemirror_mode": {
    "name": "ipython",
    "version": 3
   },
   "file_extension": ".py",
   "mimetype": "text/x-python",
   "name": "python",
   "nbconvert_exporter": "python",
   "pygments_lexer": "ipython3",
   "version": "3.8.3"
  }
 },
 "nbformat": 4,
 "nbformat_minor": 4
}
