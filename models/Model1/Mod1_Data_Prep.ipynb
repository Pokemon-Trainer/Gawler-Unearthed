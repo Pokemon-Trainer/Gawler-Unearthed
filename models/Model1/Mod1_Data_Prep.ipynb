{
 "cells": [
  {
   "cell_type": "markdown",
   "metadata": {
    "colab_type": "text",
    "id": "bvZ4f9LdvFHE"
   },
   "source": [
    "## Data Preperation for the first Model\n",
    "Welcome to the first notebook. Here we'll process the data from downloading to what we will be using to train our first model - **'Wh’re Art Thee Min’ral?'**.\n",
    "\n",
    "The steps we'll be following here are:\n",
    "- Downloading the SARIG Geochem Data Package. **(~350 Mb)**\n",
    "- Understanding the data columns in our csv of interest.\n",
    "- Cleaning and applying some processing.\n",
    "- Saving our processed file into a csv.\n",
    "- _And seeing some unnecessary memes in between_.\n",
    "\n",
    "You can upload this notebook and run it on colab or on Jupyter-Notebook locally."
   ]
  },
  {
   "cell_type": "code",
   "execution_count": 6,
   "metadata": {
    "colab": {},
    "colab_type": "code",
    "id": "yYzb835tj1Wx"
   },
   "outputs": [],
   "source": [
    "# import the required package - Pandas\n",
    "import pandas as pd"
   ]
  },
  {
   "cell_type": "markdown",
   "metadata": {
    "colab_type": "text",
    "id": "BkJ0_7aewJ9x"
   },
   "source": [
    "You can simply download the data by clicking the link [here](https://unearthed-exploresa.s3-ap-southeast-2.amazonaws.com/Unearthed_5_SARIG_Data_Package.zip). You can also download it by simply running the cell down below.\n",
    "\n",
    "We recommed you to use **Google Colab** and download it here itself if you have a poor internet connection.\n",
    "\n",
    "![](https://media.giphy.com/media/FgiHOQyKUJmwg/giphy.gif\n",
    ")\n",
    "\n",
    " Colab has a decent internet speed of around **~15-20 Mb/s** which is more than enough for the download."
   ]
  },
  {
   "cell_type": "code",
   "execution_count": null,
   "metadata": {
    "colab": {
     "base_uri": "https://localhost:8080/",
     "height": 224
    },
    "colab_type": "code",
    "id": "9qJLIJJvkjGs",
    "outputId": "b440ffce-6d3c-4a28-e45d-a3db40a1bcc1"
   },
   "outputs": [
    {
     "name": "stdout",
     "output_type": "stream",
     "text": [
      "--2020-07-26 10:57:12--  https://unearthed-exploresa.s3-ap-southeast-2.amazonaws.com/Unearthed_5_SARIG_Data_Package.zip\n",
      "Resolving unearthed-exploresa.s3-ap-southeast-2.amazonaws.com (unearthed-exploresa.s3-ap-southeast-2.amazonaws.com)... 52.95.128.54\n",
      "Connecting to unearthed-exploresa.s3-ap-southeast-2.amazonaws.com (unearthed-exploresa.s3-ap-southeast-2.amazonaws.com)|52.95.128.54|:443... connected.\n",
      "HTTP request sent, awaiting response... 200 OK\n",
      "Length: 458997620 (438M) [application/zip]\n",
      "Saving to: ‘Unearthed_5_SARIG_Data_Package.zip’\n",
      "\n",
      "Unearthed_5_SARIG_D 100%[===================>] 437.73M  20.7MB/s    in 22s     \n",
      "\n",
      "2020-07-26 10:57:35 (19.5 MB/s) - ‘Unearthed_5_SARIG_Data_Package.zip’ saved [458997620/458997620]\n",
      "\n"
     ]
    }
   ],
   "source": [
    "# You can simply download the data by running this cell\n",
    "!wget https://unearthed-exploresa.s3-ap-southeast-2.amazonaws.com/Unearthed_5_SARIG_Data_Package.zip"
   ]
  },
  {
   "cell_type": "markdown",
   "metadata": {
    "colab_type": "text",
    "id": "pp9Tr0IPxQOz"
   },
   "source": [
    "\n",
    "\n",
    "Here for extracting, if you wish to use the download file for a later use, than you can first mount your google drive and then extracting the files there. You can read more about mounting Google Drive to colab [here](https://towardsdatascience.com/downloading-datasets-into-google-drive-via-google-colab-bcb1b30b0166).\n",
    "\n",
    "***Note** - One of the files is really big (~10 Gb) and so it might take some time to extract as well. *Don't think that it's stuck!*"
   ]
  },
  {
   "cell_type": "code",
   "execution_count": null,
   "metadata": {
    "colab": {
     "base_uri": "https://localhost:8080/",
     "height": 598
    },
    "colab_type": "code",
    "id": "STNeEstgkjyL",
    "outputId": "8d578fd0-b4eb-4d9e-81de-e2bcae019bb2"
   },
   "outputs": [
    {
     "name": "stdout",
     "output_type": "stream",
     "text": [
      "Archive:  Unearthed_5_SARIG_Data_Package.zip\n",
      "  inflating: GeoChemData/SARIG_Data_Package3_Exported06072020/sarig_dh_core_exp.csv  \n",
      "  inflating: GeoChemData/SARIG_Data_Package3_Exported06072020/sarig_dh_details_exp.csv  \n",
      "  inflating: GeoChemData/SARIG_Data_Package3_Exported06072020/sarig_dh_litho_exp.csv  \n",
      "  inflating: GeoChemData/SARIG_Data_Package3_Exported06072020/sarig_dh_petrophys_exp.csv  \n",
      "  inflating: GeoChemData/SARIG_Data_Package3_Exported06072020/sarig_dh_reference_exp.csv  \n",
      "  inflating: GeoChemData/SARIG_Data_Package3_Exported06072020/sarig_dh_strat_exp.csv  \n",
      "  inflating: GeoChemData/SARIG_Data_Package3_Exported06072020/sarig_fieldobs_exp.csv  \n",
      "  inflating: GeoChemData/SARIG_Data_Package3_Exported06072020/sarig_fieldobs_litho_exp.csv  \n",
      "  inflating: GeoChemData/SARIG_Data_Package3_Exported06072020/sarig_fieldobs_note_exp.csv  \n",
      "  inflating: GeoChemData/SARIG_Data_Package3_Exported06072020/sarig_fieldobs_struct_exp.csv  \n",
      "  inflating: GeoChemData/SARIG_Data_Package3_Exported06072020/sarig_md_commodity_exp.csv  \n",
      "  inflating: GeoChemData/SARIG_Data_Package3_Exported06072020/sarig_md_details_exp.csv  \n",
      "  inflating: GeoChemData/SARIG_Data_Package3_Exported06072020/sarig_md_mineralogy_exp.csv  \n",
      "  inflating: GeoChemData/SARIG_Data_Package3_Exported06072020/sarig_md_reference_exp.csv  \n",
      "  inflating: GeoChemData/SARIG_Data_Package3_Exported06072020/sarig_md_zone_hr_lith_exp.csv  \n",
      "  inflating: GeoChemData/SARIG_Data_Package3_Exported06072020/sarig_md_zone_lith_exp.csv  \n",
      "  inflating: GeoChemData/SARIG_Data_Package3_Exported06072020/sarig_rs_bostr_analys_exp.csv  \n",
      "  inflating: GeoChemData/SARIG_Data_Package3_Exported06072020/sarig_rs_bostr_results_exp.csv  \n",
      "  inflating: GeoChemData/SARIG_Data_Package3_Exported06072020/sarig_rs_chem_exp.csv  \n",
      "  inflating: GeoChemData/SARIG_Data_Package3_Exported06072020/sarig_rs_chem_isotope_exp.csv  \n",
      "  inflating: GeoChemData/SARIG_Data_Package3_Exported06072020/sarig_rs_details_exp.csv  \n",
      "  inflating: GeoChemData/SARIG_Data_Package3_Exported06072020/sarig_rs_geochron_ages_exp.csv  \n",
      "  inflating: GeoChemData/SARIG_Data_Package3_Exported06072020/sarig_rs_geochron_reslt_exp.csv  \n",
      "  inflating: GeoChemData/SARIG_Data_Package3_Exported06072020/sarig_rs_petrology_exp.csv  \n",
      "  inflating: GeoChemData/SARIG_Data_Package3_Exported06072020/sarig_rs_reference_exp.csv  \n",
      "   creating: GeoChemData/SARIG_Data_Package3_Exported06072020/vocabulary_codes_descriptions/\n",
      "  inflating: GeoChemData/SARIG_Data_Package3_Exported06072020/vocabulary_codes_descriptions/chem_method_code_desc.csv  \n",
      "  inflating: GeoChemData/SARIG_Data_Package3_Exported06072020/vocabulary_codes_descriptions/lithology_code_desc.csv  \n",
      "  inflating: GeoChemData/SARIG_Data_Package3_Exported06072020/vocabulary_codes_descriptions/petro_type_code_desc.csv  \n",
      "  inflating: GeoChemData/SARIG_Data_Package3_Exported06072020/vocabulary_codes_descriptions/strat_unit_code_desc.csv  \n",
      "  inflating: GeoChemData/SARIG_Data_Package3_Exported06072020/vocabulary_codes_descriptions/Stratigraphic Unit Letter Code System - Explanation of the GIS Search Code and Map Symbol.pdf  \n",
      "  inflating: GeoChemData/SARIG_Data_Package3_Exported06072020/vocabulary_codes_descriptions/unit_code_desc.csv  \n"
     ]
    }
   ],
   "source": [
    "# Let's first create a directory to extract the downloaded zip file.\n",
    "!mkdir 'GeoChemData'\n",
    "\n",
    "# Now let's unzip the files into the data directory that we created.\n",
    "!unzip 'Unearthed_5_SARIG_Data_Package.zip' -d 'GeoChemData/'"
   ]
  },
  {
   "cell_type": "code",
   "execution_count": 21,
   "metadata": {
    "colab": {
     "base_uri": "https://localhost:8080/",
     "height": 71
    },
    "colab_type": "code",
    "id": "AYZIFpojm07e",
    "outputId": "a98e58dd-ca65-4dc1-9358-9b32a19efb28"
   },
   "outputs": [
    {
     "name": "stderr",
     "output_type": "stream",
     "text": [
      "/usr/local/lib/python3.6/dist-packages/IPython/core/interactiveshell.py:2718: DtypeWarning: Columns (2) have mixed types.Specify dtype option on import or set low_memory=False.\n",
      "  interactivity=interactivity, compiler=compiler, result=result)\n"
     ]
    }
   ],
   "source": [
    "# Read the df_details.csv \n",
    "# We use unicode_escape as the encoding to avoid etf-8 error.\n",
    "df_details = pd.read_csv('/content/GeoChemData/SARIG_Data_Package3_Exported06072020/sarig_dh_details_exp.csv', encoding= 'unicode_escape')"
   ]
  },
  {
   "cell_type": "code",
   "execution_count": 22,
   "metadata": {
    "colab": {
     "base_uri": "https://localhost:8080/",
     "height": 309
    },
    "colab_type": "code",
    "id": "TMdlPpZFnBg_",
    "outputId": "6946004d-cf32-49bc-ff8c-24d6ca78a9f9"
   },
   "outputs": [
    {
     "data": {
      "text/html": [
       "<div>\n",
       "<style scoped>\n",
       "    .dataframe tbody tr th:only-of-type {\n",
       "        vertical-align: middle;\n",
       "    }\n",
       "\n",
       "    .dataframe tbody tr th {\n",
       "        vertical-align: top;\n",
       "    }\n",
       "\n",
       "    .dataframe thead th {\n",
       "        text-align: right;\n",
       "    }\n",
       "</style>\n",
       "<table border=\"1\" class=\"dataframe\">\n",
       "  <thead>\n",
       "    <tr style=\"text-align: right;\">\n",
       "      <th></th>\n",
       "      <th>DRILLHOLE_NO</th>\n",
       "      <th>DH_NAME</th>\n",
       "      <th>DH_OTHER_NAME</th>\n",
       "      <th>PACE_DH</th>\n",
       "      <th>PACE_ROUND_NO</th>\n",
       "      <th>REPRESENTATIVE_DH</th>\n",
       "      <th>REPRESENTATIVE_DH_COMMENTS</th>\n",
       "      <th>DH_UNIT_NO</th>\n",
       "      <th>MAX_DRILLED_DEPTH</th>\n",
       "      <th>MAX_DRILLED_DEPTH_DATE</th>\n",
       "      <th>CORED_LENGTH</th>\n",
       "      <th>TENEMENT</th>\n",
       "      <th>OPERATOR_CODE</th>\n",
       "      <th>OPERATOR_NAME</th>\n",
       "      <th>TARGET_COMMODITIES</th>\n",
       "      <th>MINERAL_CLASS</th>\n",
       "      <th>PETROLEUM_CLASS</th>\n",
       "      <th>STRATIGRAPHIC_CLASS</th>\n",
       "      <th>ENGINEERING_CLASS</th>\n",
       "      <th>SEISMIC_POINT_CLASS</th>\n",
       "      <th>WATER_WELL_CLASS</th>\n",
       "      <th>WATER_POINT_CLASS</th>\n",
       "      <th>DRILLING_METHODS</th>\n",
       "      <th>STRAT_LOG</th>\n",
       "      <th>LITHO_LOG</th>\n",
       "      <th>PETROPHYSICAL_LOG</th>\n",
       "      <th>GEOCHEMISTRY</th>\n",
       "      <th>PETROLOGY</th>\n",
       "      <th>BIOSTRATIGRAPHY</th>\n",
       "      <th>SPECTRAL_SCANNED</th>\n",
       "      <th>CORE_LIBRARY</th>\n",
       "      <th>REFERENCES</th>\n",
       "      <th>HISTORICAL_DOCUMENTS</th>\n",
       "      <th>COMMENTS</th>\n",
       "      <th>MAP_250000</th>\n",
       "      <th>MAP_100000</th>\n",
       "      <th>MAP_50K_NO</th>\n",
       "      <th>SITE_NO</th>\n",
       "      <th>EASTING_GDA2020</th>\n",
       "      <th>NORTHING_GDA2020</th>\n",
       "      <th>ZONE_GDA2020</th>\n",
       "      <th>LONGITUDE_GDA2020</th>\n",
       "      <th>LATITUDE_GDA2020</th>\n",
       "      <th>LONGITUDE_GDA94</th>\n",
       "      <th>LATITUDE_GDA94</th>\n",
       "      <th>HORIZ_ACCRCY_M</th>\n",
       "      <th>ELEVATION_M</th>\n",
       "      <th>INCLINATION</th>\n",
       "      <th>AZIMUTH</th>\n",
       "      <th>SURVEY_METHOD_CODE</th>\n",
       "      <th>SURVEY_METHOD</th>\n",
       "    </tr>\n",
       "  </thead>\n",
       "  <tbody>\n",
       "    <tr>\n",
       "      <th>0</th>\n",
       "      <td>1</td>\n",
       "      <td>GINGERAH HILL 1</td>\n",
       "      <td>NaN</td>\n",
       "      <td>N</td>\n",
       "      <td>NaN</td>\n",
       "      <td>N</td>\n",
       "      <td>NaN</td>\n",
       "      <td>3359 1</td>\n",
       "      <td>1473.50</td>\n",
       "      <td>14/09/1986</td>\n",
       "      <td>NaN</td>\n",
       "      <td></td>\n",
       "      <td>NaN</td>\n",
       "      <td>NaN</td>\n",
       "      <td>NaN</td>\n",
       "      <td>N</td>\n",
       "      <td>Y</td>\n",
       "      <td>N</td>\n",
       "      <td>N</td>\n",
       "      <td>N</td>\n",
       "      <td>N</td>\n",
       "      <td>N</td>\n",
       "      <td>NaN</td>\n",
       "      <td>N</td>\n",
       "      <td>N</td>\n",
       "      <td>N</td>\n",
       "      <td>N</td>\n",
       "      <td>N</td>\n",
       "      <td>N</td>\n",
       "      <td>N</td>\n",
       "      <td>N</td>\n",
       "      <td>N</td>\n",
       "      <td>N</td>\n",
       "      <td>NaN</td>\n",
       "      <td>SE5114 MUNRO</td>\n",
       "      <td>3359 Cudalgarra</td>\n",
       "      <td>2</td>\n",
       "      <td>124</td>\n",
       "      <td>433537.93</td>\n",
       "      <td>7847062.23</td>\n",
       "      <td>51</td>\n",
       "      <td>122.366742</td>\n",
       "      <td>-19.469838</td>\n",
       "      <td>122.366734</td>\n",
       "      <td>-19.469824</td>\n",
       "      <td>NaN</td>\n",
       "      <td>NaN</td>\n",
       "      <td>NaN</td>\n",
       "      <td>NaN</td>\n",
       "      <td>NaN</td>\n",
       "      <td>NaN</td>\n",
       "    </tr>\n",
       "    <tr>\n",
       "      <th>1</th>\n",
       "      <td>2</td>\n",
       "      <td>BROOKE 1</td>\n",
       "      <td>NaN</td>\n",
       "      <td>N</td>\n",
       "      <td>NaN</td>\n",
       "      <td>N</td>\n",
       "      <td>NaN</td>\n",
       "      <td>3458 1</td>\n",
       "      <td>2035.10</td>\n",
       "      <td>21/07/1988</td>\n",
       "      <td>NaN</td>\n",
       "      <td></td>\n",
       "      <td>NaN</td>\n",
       "      <td>NaN</td>\n",
       "      <td>NaN</td>\n",
       "      <td>N</td>\n",
       "      <td>Y</td>\n",
       "      <td>N</td>\n",
       "      <td>N</td>\n",
       "      <td>N</td>\n",
       "      <td>N</td>\n",
       "      <td>N</td>\n",
       "      <td>NaN</td>\n",
       "      <td>N</td>\n",
       "      <td>N</td>\n",
       "      <td>N</td>\n",
       "      <td>N</td>\n",
       "      <td>N</td>\n",
       "      <td>N</td>\n",
       "      <td>N</td>\n",
       "      <td>N</td>\n",
       "      <td>N</td>\n",
       "      <td>N</td>\n",
       "      <td>NaN</td>\n",
       "      <td>SE5114 MUNRO</td>\n",
       "      <td>3458 Brooke</td>\n",
       "      <td>1</td>\n",
       "      <td>125</td>\n",
       "      <td>491238.13</td>\n",
       "      <td>7816262.34</td>\n",
       "      <td>51</td>\n",
       "      <td>122.916370</td>\n",
       "      <td>-19.749266</td>\n",
       "      <td>122.916362</td>\n",
       "      <td>-19.749252</td>\n",
       "      <td>NaN</td>\n",
       "      <td>NaN</td>\n",
       "      <td>NaN</td>\n",
       "      <td>NaN</td>\n",
       "      <td>NaN</td>\n",
       "      <td>NaN</td>\n",
       "    </tr>\n",
       "    <tr>\n",
       "      <th>2</th>\n",
       "      <td>3</td>\n",
       "      <td>SAHARA 1</td>\n",
       "      <td>NaN</td>\n",
       "      <td>N</td>\n",
       "      <td>NaN</td>\n",
       "      <td>N</td>\n",
       "      <td>NaN</td>\n",
       "      <td>3555 1</td>\n",
       "      <td>2120.19</td>\n",
       "      <td>26/02/1965</td>\n",
       "      <td>NaN</td>\n",
       "      <td></td>\n",
       "      <td>NaN</td>\n",
       "      <td>NaN</td>\n",
       "      <td>NaN</td>\n",
       "      <td>N</td>\n",
       "      <td>Y</td>\n",
       "      <td>N</td>\n",
       "      <td>N</td>\n",
       "      <td>N</td>\n",
       "      <td>N</td>\n",
       "      <td>N</td>\n",
       "      <td>NaN</td>\n",
       "      <td>N</td>\n",
       "      <td>N</td>\n",
       "      <td>N</td>\n",
       "      <td>N</td>\n",
       "      <td>N</td>\n",
       "      <td>N</td>\n",
       "      <td>N</td>\n",
       "      <td>N</td>\n",
       "      <td>N</td>\n",
       "      <td>Y</td>\n",
       "      <td>NaN</td>\n",
       "      <td>SF5107 SAHARA</td>\n",
       "      <td>3555 Tandalgoo</td>\n",
       "      <td>1</td>\n",
       "      <td>126</td>\n",
       "      <td>540836.18</td>\n",
       "      <td>7674882.10</td>\n",
       "      <td>51</td>\n",
       "      <td>123.392991</td>\n",
       "      <td>-21.026384</td>\n",
       "      <td>123.392983</td>\n",
       "      <td>-21.026370</td>\n",
       "      <td>200.0</td>\n",
       "      <td>NaN</td>\n",
       "      <td>NaN</td>\n",
       "      <td>NaN</td>\n",
       "      <td>MAP</td>\n",
       "      <td>Map Plot</td>\n",
       "    </tr>\n",
       "    <tr>\n",
       "      <th>3</th>\n",
       "      <td>4</td>\n",
       "      <td>NYALAYI 1/90</td>\n",
       "      <td>NaN</td>\n",
       "      <td>N</td>\n",
       "      <td>NaN</td>\n",
       "      <td>N</td>\n",
       "      <td>NaN</td>\n",
       "      <td>3743 1</td>\n",
       "      <td>96.00</td>\n",
       "      <td>06/12/1990</td>\n",
       "      <td>NaN</td>\n",
       "      <td></td>\n",
       "      <td>NaN</td>\n",
       "      <td>NaN</td>\n",
       "      <td>Water</td>\n",
       "      <td>N</td>\n",
       "      <td>N</td>\n",
       "      <td>N</td>\n",
       "      <td>N</td>\n",
       "      <td>N</td>\n",
       "      <td>Y</td>\n",
       "      <td>N</td>\n",
       "      <td>Rotary</td>\n",
       "      <td>N</td>\n",
       "      <td>Y</td>\n",
       "      <td>N</td>\n",
       "      <td>N</td>\n",
       "      <td>N</td>\n",
       "      <td>N</td>\n",
       "      <td>N</td>\n",
       "      <td>N</td>\n",
       "      <td>Y</td>\n",
       "      <td>Y</td>\n",
       "      <td>NaN</td>\n",
       "      <td>SG5115 THROSSELL</td>\n",
       "      <td>3743 Buldya</td>\n",
       "      <td>1</td>\n",
       "      <td>127</td>\n",
       "      <td>647138.76</td>\n",
       "      <td>6991660.71</td>\n",
       "      <td>51</td>\n",
       "      <td>124.485432</td>\n",
       "      <td>-27.189890</td>\n",
       "      <td>124.485424</td>\n",
       "      <td>-27.189876</td>\n",
       "      <td>NaN</td>\n",
       "      <td>NaN</td>\n",
       "      <td>NaN</td>\n",
       "      <td>NaN</td>\n",
       "      <td>NaN</td>\n",
       "      <td>NaN</td>\n",
       "    </tr>\n",
       "    <tr>\n",
       "      <th>4</th>\n",
       "      <td>5</td>\n",
       "      <td>GAMBANGA 1</td>\n",
       "      <td>NaN</td>\n",
       "      <td>N</td>\n",
       "      <td>NaN</td>\n",
       "      <td>N</td>\n",
       "      <td>NaN</td>\n",
       "      <td>3833 1</td>\n",
       "      <td>391.06</td>\n",
       "      <td>05/03/1960</td>\n",
       "      <td>NaN</td>\n",
       "      <td></td>\n",
       "      <td>NaN</td>\n",
       "      <td>NaN</td>\n",
       "      <td>NaN</td>\n",
       "      <td>N</td>\n",
       "      <td>Y</td>\n",
       "      <td>N</td>\n",
       "      <td>N</td>\n",
       "      <td>N</td>\n",
       "      <td>N</td>\n",
       "      <td>N</td>\n",
       "      <td>NaN</td>\n",
       "      <td>N</td>\n",
       "      <td>N</td>\n",
       "      <td>N</td>\n",
       "      <td>N</td>\n",
       "      <td>N</td>\n",
       "      <td>N</td>\n",
       "      <td>N</td>\n",
       "      <td>N</td>\n",
       "      <td>N</td>\n",
       "      <td>Y</td>\n",
       "      <td>NaN</td>\n",
       "      <td>SI5104 CULVER</td>\n",
       "      <td>3833 Price</td>\n",
       "      <td>3</td>\n",
       "      <td>128</td>\n",
       "      <td>664137.34</td>\n",
       "      <td>6426048.14</td>\n",
       "      <td>51</td>\n",
       "      <td>124.743123</td>\n",
       "      <td>-32.290334</td>\n",
       "      <td>124.743116</td>\n",
       "      <td>-32.290320</td>\n",
       "      <td>NaN</td>\n",
       "      <td>NaN</td>\n",
       "      <td>NaN</td>\n",
       "      <td>NaN</td>\n",
       "      <td>NaN</td>\n",
       "      <td>NaN</td>\n",
       "    </tr>\n",
       "  </tbody>\n",
       "</table>\n",
       "</div>"
      ],
      "text/plain": [
       "   DRILLHOLE_NO          DH_NAME  ... SURVEY_METHOD_CODE SURVEY_METHOD\n",
       "0             1  GINGERAH HILL 1  ...                NaN           NaN\n",
       "1             2         BROOKE 1  ...                NaN           NaN\n",
       "2             3         SAHARA 1  ...                MAP      Map Plot\n",
       "3             4     NYALAYI 1/90  ...                NaN           NaN\n",
       "4             5       GAMBANGA 1  ...                NaN           NaN\n",
       "\n",
       "[5 rows x 51 columns]"
      ]
     },
     "execution_count": 22,
     "metadata": {
      "tags": []
     },
     "output_type": "execute_result"
    }
   ],
   "source": [
    "# Let's view the first few columns\n",
    "df_details.head()"
   ]
  },
  {
   "cell_type": "code",
   "execution_count": 23,
   "metadata": {
    "colab": {
     "base_uri": "https://localhost:8080/",
     "height": 1000
    },
    "colab_type": "code",
    "id": "5E13qSW4nQ7n",
    "outputId": "71317015-ef73-47f4-e66b-e85939e43d8b"
   },
   "outputs": [
    {
     "name": "stdout",
     "output_type": "stream",
     "text": [
      "<class 'pandas.core.frame.DataFrame'>\n",
      "RangeIndex: 321843 entries, 0 to 321842\n",
      "Data columns (total 51 columns):\n",
      " #   Column                      Non-Null Count   Dtype  \n",
      "---  ------                      --------------   -----  \n",
      " 0   DRILLHOLE_NO                321843 non-null  int64  \n",
      " 1   DH_NAME                     191457 non-null  object \n",
      " 2   DH_OTHER_NAME               26298 non-null   object \n",
      " 3   PACE_DH                     321843 non-null  object \n",
      " 4   PACE_ROUND_NO               6535 non-null    float64\n",
      " 5   REPRESENTATIVE_DH           321843 non-null  object \n",
      " 6   REPRESENTATIVE_DH_COMMENTS  97696 non-null   object \n",
      " 7   DH_UNIT_NO                  321843 non-null  object \n",
      " 8   MAX_DRILLED_DEPTH           303597 non-null  float64\n",
      " 9   MAX_DRILLED_DEPTH_DATE      296142 non-null  object \n",
      " 10  CORED_LENGTH                51566 non-null   float64\n",
      " 11  TENEMENT                    321843 non-null  object \n",
      " 12  OPERATOR_CODE               155645 non-null  object \n",
      " 13  OPERATOR_NAME               155645 non-null  object \n",
      " 14  TARGET_COMMODITIES          274769 non-null  object \n",
      " 15  MINERAL_CLASS               321843 non-null  object \n",
      " 16  PETROLEUM_CLASS             321843 non-null  object \n",
      " 17  STRATIGRAPHIC_CLASS         321843 non-null  object \n",
      " 18  ENGINEERING_CLASS           321843 non-null  object \n",
      " 19  SEISMIC_POINT_CLASS         321843 non-null  object \n",
      " 20  WATER_WELL_CLASS            321843 non-null  object \n",
      " 21  WATER_POINT_CLASS           321843 non-null  object \n",
      " 22  DRILLING_METHODS            235287 non-null  object \n",
      " 23  STRAT_LOG                   321843 non-null  object \n",
      " 24  LITHO_LOG                   321843 non-null  object \n",
      " 25  PETROPHYSICAL_LOG           321843 non-null  object \n",
      " 26  GEOCHEMISTRY                321843 non-null  object \n",
      " 27  PETROLOGY                   321843 non-null  object \n",
      " 28  BIOSTRATIGRAPHY             321843 non-null  object \n",
      " 29  SPECTRAL_SCANNED            321843 non-null  object \n",
      " 30  CORE_LIBRARY                321843 non-null  object \n",
      " 31  REFERENCES                  321843 non-null  object \n",
      " 32  HISTORICAL_DOCUMENTS        321843 non-null  object \n",
      " 33  COMMENTS                    156435 non-null  object \n",
      " 34  MAP_250000                  321843 non-null  object \n",
      " 35  MAP_100000                  321843 non-null  object \n",
      " 36  MAP_50K_NO                  321843 non-null  int64  \n",
      " 37  SITE_NO                     321843 non-null  int64  \n",
      " 38  EASTING_GDA2020             321843 non-null  float64\n",
      " 39  NORTHING_GDA2020            321843 non-null  float64\n",
      " 40  ZONE_GDA2020                321843 non-null  int64  \n",
      " 41  LONGITUDE_GDA2020           321843 non-null  float64\n",
      " 42  LATITUDE_GDA2020            321843 non-null  float64\n",
      " 43  LONGITUDE_GDA94             321843 non-null  float64\n",
      " 44  LATITUDE_GDA94              321843 non-null  float64\n",
      " 45  HORIZ_ACCRCY_M              187292 non-null  float64\n",
      " 46  ELEVATION_M                 236945 non-null  float64\n",
      " 47  INCLINATION                 196822 non-null  float64\n",
      " 48  AZIMUTH                     166320 non-null  float64\n",
      " 49  SURVEY_METHOD_CODE          195778 non-null  object \n",
      " 50  SURVEY_METHOD               195778 non-null  object \n",
      "dtypes: float64(13), int64(4), object(34)\n",
      "memory usage: 125.2+ MB\n"
     ]
    }
   ],
   "source": [
    "# Data Column Information\n",
    "df_details.info()"
   ]
  },
  {
   "cell_type": "markdown",
   "metadata": {
    "colab_type": "text",
    "id": "MZdsMCJVJXdz"
   },
   "source": [
    "### What columns do we need?\n",
    "We only need the following three columns from this dataframe ->\n",
    "- `LONGITUDE_GDA94`: This is the longitude of the mine/mineral location in **EPSG:4283** Co-ordinate Referencing System (CRS). \n",
    "\n",
    "- `LATITUDE_GDA94`: This is the latitude of the mine/mineral location in **EPSG:4283** Co-ordinate Referencing System (CRS).\n",
    "\n",
    "- `MINERAL_CLASS`: Mineral Class is a column containing **two unique values (Y/N)** representing if there is any mineralization or not.\n",
    "\n",
    "> *Note - We are using GDA94 over GDA20 because of the former's standardness.* You can understand more about it our glossary's page [here]().\n",
    "\n"
   ]
  },
  {
   "cell_type": "code",
   "execution_count": 24,
   "metadata": {
    "colab": {},
    "colab_type": "code",
    "id": "ZCcMkOuP08m-"
   },
   "outputs": [],
   "source": [
    "# Here the only relevant data we need is the location and the Mineral Class (Yes/No)\n",
    "df_final = df_details[['LONGITUDE_GDA94','LATITUDE_GDA94', 'MINERAL_CLASS']]\n",
    "\n",
    "# Drop the rows with null values \n",
    "df_final = df_final.dropna()"
   ]
  },
  {
   "cell_type": "code",
   "execution_count": 25,
   "metadata": {
    "colab": {
     "base_uri": "https://localhost:8080/",
     "height": 204
    },
    "colab_type": "code",
    "id": "-lTB4K46JOzE",
    "outputId": "3333ba5b-546e-40ec-ca01-800012aec846"
   },
   "outputs": [
    {
     "data": {
      "text/html": [
       "<div>\n",
       "<style scoped>\n",
       "    .dataframe tbody tr th:only-of-type {\n",
       "        vertical-align: middle;\n",
       "    }\n",
       "\n",
       "    .dataframe tbody tr th {\n",
       "        vertical-align: top;\n",
       "    }\n",
       "\n",
       "    .dataframe thead th {\n",
       "        text-align: right;\n",
       "    }\n",
       "</style>\n",
       "<table border=\"1\" class=\"dataframe\">\n",
       "  <thead>\n",
       "    <tr style=\"text-align: right;\">\n",
       "      <th></th>\n",
       "      <th>LONGITUDE_GDA94</th>\n",
       "      <th>LATITUDE_GDA94</th>\n",
       "      <th>MINERAL_CLASS</th>\n",
       "    </tr>\n",
       "  </thead>\n",
       "  <tbody>\n",
       "    <tr>\n",
       "      <th>0</th>\n",
       "      <td>122.366734</td>\n",
       "      <td>-19.469824</td>\n",
       "      <td>N</td>\n",
       "    </tr>\n",
       "    <tr>\n",
       "      <th>1</th>\n",
       "      <td>122.916362</td>\n",
       "      <td>-19.749252</td>\n",
       "      <td>N</td>\n",
       "    </tr>\n",
       "    <tr>\n",
       "      <th>2</th>\n",
       "      <td>123.392983</td>\n",
       "      <td>-21.026370</td>\n",
       "      <td>N</td>\n",
       "    </tr>\n",
       "    <tr>\n",
       "      <th>3</th>\n",
       "      <td>124.485424</td>\n",
       "      <td>-27.189876</td>\n",
       "      <td>N</td>\n",
       "    </tr>\n",
       "    <tr>\n",
       "      <th>4</th>\n",
       "      <td>124.743116</td>\n",
       "      <td>-32.290320</td>\n",
       "      <td>N</td>\n",
       "    </tr>\n",
       "  </tbody>\n",
       "</table>\n",
       "</div>"
      ],
      "text/plain": [
       "   LONGITUDE_GDA94  LATITUDE_GDA94 MINERAL_CLASS\n",
       "0       122.366734      -19.469824             N\n",
       "1       122.916362      -19.749252             N\n",
       "2       123.392983      -21.026370             N\n",
       "3       124.485424      -27.189876             N\n",
       "4       124.743116      -32.290320             N"
      ]
     },
     "execution_count": 25,
     "metadata": {
      "tags": []
     },
     "output_type": "execute_result"
    }
   ],
   "source": [
    "# Lets print out a few rows of the new dataframe.\n",
    "df_final.head()"
   ]
  },
  {
   "cell_type": "code",
   "execution_count": 31,
   "metadata": {
    "colab": {
     "base_uri": "https://localhost:8080/",
     "height": 68
    },
    "colab_type": "code",
    "id": "dOnWVEIeNnQx",
    "outputId": "af329b0d-6892-4907-8064-b4cb7e3eaf47"
   },
   "outputs": [
    {
     "name": "stdout",
     "output_type": "stream",
     "text": [
      "Number of rows with Mineral Class Yes is 147407\n",
      "Number of rows with Mineral Class No is 174436\n"
     ]
    },
    {
     "data": {
      "text/plain": [
       "321843"
      ]
     },
     "execution_count": 31,
     "metadata": {
      "tags": []
     },
     "output_type": "execute_result"
    }
   ],
   "source": [
    "# Let's check the data points in both classes\n",
    "print(\"Number of rows with Mineral Class Yes is\", len(df_final.query('MINERAL_CLASS==\"Y\"')))\n",
    "print(\"Number of rows with Mineral Class No is\", len(df_final.query('MINERAL_CLASS==\"N\"')))"
   ]
  },
  {
   "cell_type": "markdown",
   "metadata": {
    "colab_type": "text",
    "id": "_uzAMSzROQlB"
   },
   "source": [
    "The Total Number of rows in the new dataset is **147407 (Y) + 174436 (N) = 321843** which is quite sufficient for training our models over it.\n",
    "\n",
    "Also the ratio of Class `'Y'` to Class `'N'` is 1 : 0.8 which is quite _**balanced**_.\n",
    "\n",
    "![](https://media.giphy.com/media/Q1LPV0vs7oKqc/giphy.gif)"
   ]
  },
  {
   "cell_type": "markdown",
   "metadata": {
    "colab_type": "text",
    "id": "tjNkr2-5Mk9m"
   },
   "source": [
    "Now that we have our csv, let's go ahead and save our progress into a new csv before the session expires!\n",
    "\n",
    "![](https://www.meme-arsenal.com/memes/4d79ebd426c488f01201fa1c70f704c8.jpg)"
   ]
  },
  {
   "cell_type": "code",
   "execution_count": 35,
   "metadata": {
    "colab": {
     "base_uri": "https://localhost:8080/",
     "height": 34
    },
    "colab_type": "code",
    "id": "QJowUDRM1siS",
    "outputId": "b178b2e0-5798-443c-90dd-acfc9c9286e4"
   },
   "outputs": [
    {
     "name": "stdout",
     "output_type": "stream",
     "text": [
      "mkdir: cannot create directory ‘GeoChemData/exported’: File exists\n"
     ]
    }
   ],
   "source": [
    "# Create a new directory to save the csv.\n",
    "!mkdir 'GeoChemData/exported'\n",
    "\n",
    "# Convert the dataframe into a new csv file.\n",
    "df_final.to_csv('GeoChemData/mod1_unsampled.csv')"
   ]
  },
  {
   "cell_type": "code",
   "execution_count": 36,
   "metadata": {
    "colab": {
     "base_uri": "https://localhost:8080/",
     "height": 17
    },
    "colab_type": "code",
    "id": "ZQrDnmUzQv_T",
    "outputId": "b1afa17e-dee0-4987-9035-dc83b6bf3d13"
   },
   "outputs": [
    {
     "data": {
      "application/javascript": [
       "\n",
       "    async function download(id, filename, size) {\n",
       "      if (!google.colab.kernel.accessAllowed) {\n",
       "        return;\n",
       "      }\n",
       "      const div = document.createElement('div');\n",
       "      const label = document.createElement('label');\n",
       "      label.textContent = `Downloading \"${filename}\": `;\n",
       "      div.appendChild(label);\n",
       "      const progress = document.createElement('progress');\n",
       "      progress.max = size;\n",
       "      div.appendChild(progress);\n",
       "      document.body.appendChild(div);\n",
       "\n",
       "      const buffers = [];\n",
       "      let downloaded = 0;\n",
       "\n",
       "      const channel = await google.colab.kernel.comms.open(id);\n",
       "      // Send a message to notify the kernel that we're ready.\n",
       "      channel.send({})\n",
       "\n",
       "      for await (const message of channel.messages) {\n",
       "        // Send a message to notify the kernel that we're ready.\n",
       "        channel.send({})\n",
       "        if (message.buffers) {\n",
       "          for (const buffer of message.buffers) {\n",
       "            buffers.push(buffer);\n",
       "            downloaded += buffer.byteLength;\n",
       "            progress.value = downloaded;\n",
       "          }\n",
       "        }\n",
       "      }\n",
       "      const blob = new Blob(buffers, {type: 'application/binary'});\n",
       "      const a = document.createElement('a');\n",
       "      a.href = window.URL.createObjectURL(blob);\n",
       "      a.download = filename;\n",
       "      div.appendChild(a);\n",
       "      a.click();\n",
       "      div.remove();\n",
       "    }\n",
       "  "
      ],
      "text/plain": [
       "<IPython.core.display.Javascript object>"
      ]
     },
     "metadata": {
      "tags": []
     },
     "output_type": "display_data"
    },
    {
     "data": {
      "application/javascript": [
       "download(\"download_1183fa0c-15b0-4e38-8f29-4e5f3f9e62cb\", \"mod1_vectors.csv\", 11987277)"
      ],
      "text/plain": [
       "<IPython.core.display.Javascript object>"
      ]
     },
     "metadata": {
      "tags": []
     },
     "output_type": "display_data"
    }
   ],
   "source": [
    "# Finally if you are on google colab, you can simply download using ->\n",
    "from google.colab import files\n",
    "files.download('GeoChemData/exported/mod1_vectors.csv')"
   ]
  }
 ],
 "metadata": {
  "colab": {
   "name": "Mod1_Data_Prep",
   "provenance": [],
   "toc_visible": true
  },
  "kernelspec": {
   "display_name": "Python 3",
   "language": "python",
   "name": "python3"
  },
  "language_info": {
   "codemirror_mode": {
    "name": "ipython",
    "version": 3
   },
   "file_extension": ".py",
   "mimetype": "text/x-python",
   "name": "python",
   "nbconvert_exporter": "python",
   "pygments_lexer": "ipython3",
   "version": "3.6.11"
  }
 },
 "nbformat": 4,
 "nbformat_minor": 1
}
