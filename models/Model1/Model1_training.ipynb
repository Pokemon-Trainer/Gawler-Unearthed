{
 "cells": [
  {
   "cell_type": "markdown",
   "metadata": {},
   "source": [
    "### Where Art Thou Min'ral?\n",
    "In this notebook, we'll be using [H2o's AutoMl](https://docs.h2o.ai/h2o/latest-stable/h2o-docs/automl.html) algorithm to train our first **Binary Classification Model** on the data we prepared in our earlier notebook. \n",
    "\n",
    "Before we begin, make sure you install h2o in your system. You can refer to the instalation page [here](https://docs.h2o.ai/h2o/latest-stable/h2o-docs/downloading.html#install-in-python).\n",
    "\n",
    "You can also train your own models on the prepared data using State-Of-The-Art Algorithms such as \n",
    "- Tensorflow & Keras\n",
    "- Sklearn\n",
    "- Pytorch\n",
    "- MLBox\n",
    "- AutoKeras & Hyperas\n",
    "- AutoSkLearn etc."
   ]
  },
  {
   "cell_type": "code",
   "execution_count": 2,
   "metadata": {},
   "outputs": [
    {
     "name": "stdout",
     "output_type": "stream",
     "text": [
      "Checking whether there is an H2O instance running at http://localhost:54321 ..... not found.\n",
      "Attempting to start a local H2O server...\n",
      "  Java Version: openjdk version \"1.8.0_252\"; OpenJDK Runtime Environment (build 1.8.0_252-8u252-b09-1ubuntu1-b09); OpenJDK 64-Bit Server VM (build 25.252-b09, mixed mode)\n",
      "  Starting server from /home/xavian/anaconda3/envs/gawler/lib/python3.6/site-packages/h2o/backend/bin/h2o.jar\n",
      "  Ice root: /tmp/tmpqpl6fpzo\n",
      "  JVM stdout: /tmp/tmpqpl6fpzo/h2o_xavian_started_from_python.out\n",
      "  JVM stderr: /tmp/tmpqpl6fpzo/h2o_xavian_started_from_python.err\n",
      "  Server is running at http://127.0.0.1:54321\n",
      "Connecting to H2O server at http://127.0.0.1:54321 ... successful.\n"
     ]
    },
    {
     "data": {
      "text/html": [
       "<div style=\"overflow:auto\"><table style=\"width:50%\"><tr><td>H2O_cluster_uptime:</td>\n",
       "<td>02 secs</td></tr>\n",
       "<tr><td>H2O_cluster_timezone:</td>\n",
       "<td>Asia/Kolkata</td></tr>\n",
       "<tr><td>H2O_data_parsing_timezone:</td>\n",
       "<td>UTC</td></tr>\n",
       "<tr><td>H2O_cluster_version:</td>\n",
       "<td>3.30.0.6</td></tr>\n",
       "<tr><td>H2O_cluster_version_age:</td>\n",
       "<td>1 month and 1 day </td></tr>\n",
       "<tr><td>H2O_cluster_name:</td>\n",
       "<td>H2O_from_python_xavian_71mked</td></tr>\n",
       "<tr><td>H2O_cluster_total_nodes:</td>\n",
       "<td>1</td></tr>\n",
       "<tr><td>H2O_cluster_free_memory:</td>\n",
       "<td>3.457 Gb</td></tr>\n",
       "<tr><td>H2O_cluster_total_cores:</td>\n",
       "<td>4</td></tr>\n",
       "<tr><td>H2O_cluster_allowed_cores:</td>\n",
       "<td>4</td></tr>\n",
       "<tr><td>H2O_cluster_status:</td>\n",
       "<td>accepting new members, healthy</td></tr>\n",
       "<tr><td>H2O_connection_url:</td>\n",
       "<td>http://127.0.0.1:54321</td></tr>\n",
       "<tr><td>H2O_connection_proxy:</td>\n",
       "<td>{\"http\": null, \"https\": null}</td></tr>\n",
       "<tr><td>H2O_internal_security:</td>\n",
       "<td>False</td></tr>\n",
       "<tr><td>H2O_API_Extensions:</td>\n",
       "<td>Amazon S3, XGBoost, Algos, AutoML, Core V3, TargetEncoder, Core V4</td></tr>\n",
       "<tr><td>Python_version:</td>\n",
       "<td>3.6.11 final</td></tr></table></div>"
      ],
      "text/plain": [
       "--------------------------  ------------------------------------------------------------------\n",
       "H2O_cluster_uptime:         02 secs\n",
       "H2O_cluster_timezone:       Asia/Kolkata\n",
       "H2O_data_parsing_timezone:  UTC\n",
       "H2O_cluster_version:        3.30.0.6\n",
       "H2O_cluster_version_age:    1 month and 1 day\n",
       "H2O_cluster_name:           H2O_from_python_xavian_71mked\n",
       "H2O_cluster_total_nodes:    1\n",
       "H2O_cluster_free_memory:    3.457 Gb\n",
       "H2O_cluster_total_cores:    4\n",
       "H2O_cluster_allowed_cores:  4\n",
       "H2O_cluster_status:         accepting new members, healthy\n",
       "H2O_connection_url:         http://127.0.0.1:54321\n",
       "H2O_connection_proxy:       {\"http\": null, \"https\": null}\n",
       "H2O_internal_security:      False\n",
       "H2O_API_Extensions:         Amazon S3, XGBoost, Algos, AutoML, Core V3, TargetEncoder, Core V4\n",
       "Python_version:             3.6.11 final\n",
       "--------------------------  ------------------------------------------------------------------"
      ]
     },
     "metadata": {},
     "output_type": "display_data"
    }
   ],
   "source": [
    "# Importing the required library - h2o - for data importing & modelling.\n",
    "import h2o\n",
    "from h2o.automl import H2OAutoML\n",
    "\n",
    "# Initializing a local server to train our model upon. Make sure you adjust the Mem_Size as per your system.\n",
    "# You can always look it up in the documentation to learn more!\n",
    "h2o.init()"
   ]
  },
  {
   "cell_type": "code",
   "execution_count": 9,
   "metadata": {},
   "outputs": [
    {
     "name": "stdout",
     "output_type": "stream",
     "text": [
      "Parse progress: |█████████████████████████████████████████████████████████| 100%\n"
     ]
    }
   ],
   "source": [
    "# Importing the file into an H2o dataframe.\n",
    "df = h2o.import_file('/home/xavian/Downloads/The_Gawler_Challenge/final_files/Model1/merged/Model1_Merged.csv')\n",
    "\n",
    "# We need to split the data into train and test. Change the ratio as per your preference.\n",
    "splits = df.split_frame(ratios=[0.8],seed=1)\n",
    "train = splits[0]\n",
    "test = splits[1]"
   ]
  },
  {
   "cell_type": "code",
   "execution_count": 3,
   "metadata": {},
   "outputs": [
    {
     "data": {
      "text/html": [
       "<table>\n",
       "<thead>\n",
       "<tr><th style=\"text-align: right;\">  C1</th><th style=\"text-align: right;\">  LONGITUDE_</th><th style=\"text-align: right;\">  LATITUDE_G</th><th>MINERAL_CL  </th><th style=\"text-align: right;\">  gravity_ma</th><th style=\"text-align: right;\">  dem-9s</th><th style=\"text-align: right;\">    SA_TMI</th><th style=\"text-align: right;\">  gravity_1V</th><th style=\"text-align: right;\">  SA_TMI_VRT</th><th style=\"text-align: right;\">  d8-9s</th></tr>\n",
       "</thead>\n",
       "<tbody>\n",
       "<tr><td style=\"text-align: right;\"> 142</td><td style=\"text-align: right;\">     129.11 </td><td style=\"text-align: right;\">    -31.5842</td><td>N           </td><td style=\"text-align: right;\">   -33.482  </td><td style=\"text-align: right;\"> 95.7766</td><td style=\"text-align: right;\">  -36.3184</td><td style=\"text-align: right;\">    -0.00034</td><td style=\"text-align: right;\">   -192.407 </td><td style=\"text-align: right;\">      2</td></tr>\n",
       "<tr><td style=\"text-align: right;\"> 143</td><td style=\"text-align: right;\">     129.346</td><td style=\"text-align: right;\">    -31.5211</td><td>N           </td><td style=\"text-align: right;\">   -25.5448 </td><td style=\"text-align: right;\"> 96.9994</td><td style=\"text-align: right;\"> -143.02  </td><td style=\"text-align: right;\">     0.00044</td><td style=\"text-align: right;\">   -423.11  </td><td style=\"text-align: right;\">      2</td></tr>\n",
       "<tr><td style=\"text-align: right;\"> 145</td><td style=\"text-align: right;\">     129.385</td><td style=\"text-align: right;\">    -31.6402</td><td>N           </td><td style=\"text-align: right;\">   -28.2794 </td><td style=\"text-align: right;\"> 87.0945</td><td style=\"text-align: right;\"> 1077.01  </td><td style=\"text-align: right;\">    -0.00015</td><td style=\"text-align: right;\">    667.035 </td><td style=\"text-align: right;\">      1</td></tr>\n",
       "<tr><td style=\"text-align: right;\"> 147</td><td style=\"text-align: right;\">     129.167</td><td style=\"text-align: right;\">    -31.1688</td><td>Y           </td><td style=\"text-align: right;\">   -32.5929 </td><td style=\"text-align: right;\">129.967 </td><td style=\"text-align: right;\">-1565.33  </td><td style=\"text-align: right;\">     0.00068</td><td style=\"text-align: right;\">  -1701.49  </td><td style=\"text-align: right;\">      4</td></tr>\n",
       "<tr><td style=\"text-align: right;\"> 148</td><td style=\"text-align: right;\">     129.164</td><td style=\"text-align: right;\">    -31.1625</td><td>Y           </td><td style=\"text-align: right;\">   -33.3853 </td><td style=\"text-align: right;\">131.218 </td><td style=\"text-align: right;\"> -227.706 </td><td style=\"text-align: right;\">     0.00042</td><td style=\"text-align: right;\">    640.236 </td><td style=\"text-align: right;\">      4</td></tr>\n",
       "<tr><td style=\"text-align: right;\"> 149</td><td style=\"text-align: right;\">     129.11 </td><td style=\"text-align: right;\">    -30.7499</td><td>N           </td><td style=\"text-align: right;\">   -45.8616 </td><td style=\"text-align: right;\">154.939 </td><td style=\"text-align: right;\">  172.563 </td><td style=\"text-align: right;\">    -0.00022</td><td style=\"text-align: right;\">     43.9881</td><td style=\"text-align: right;\">      1</td></tr>\n",
       "<tr><td style=\"text-align: right;\"> 150</td><td style=\"text-align: right;\">     129.247</td><td style=\"text-align: right;\">    -30.5269</td><td>N           </td><td style=\"text-align: right;\">   -52.8326 </td><td style=\"text-align: right;\">159.276 </td><td style=\"text-align: right;\">   64.9359</td><td style=\"text-align: right;\">    -0.00034</td><td style=\"text-align: right;\">     52.2999</td><td style=\"text-align: right;\">      2</td></tr>\n",
       "<tr><td style=\"text-align: right;\"> 151</td><td style=\"text-align: right;\">     129.371</td><td style=\"text-align: right;\">    -30.5701</td><td>N           </td><td style=\"text-align: right;\">   -53.8595 </td><td style=\"text-align: right;\">138.374 </td><td style=\"text-align: right;\">  206.621 </td><td style=\"text-align: right;\">    -0.00018</td><td style=\"text-align: right;\">    327.643 </td><td style=\"text-align: right;\">      2</td></tr>\n",
       "<tr><td style=\"text-align: right;\"> 153</td><td style=\"text-align: right;\">     129.376</td><td style=\"text-align: right;\">    -26.6621</td><td>N           </td><td style=\"text-align: right;\">    -4.67423</td><td style=\"text-align: right;\">538.87  </td><td style=\"text-align: right;\">  360.422 </td><td style=\"text-align: right;\">     0.00034</td><td style=\"text-align: right;\">     68.9003</td><td style=\"text-align: right;\">     16</td></tr>\n",
       "<tr><td style=\"text-align: right;\"> 154</td><td style=\"text-align: right;\">     129.404</td><td style=\"text-align: right;\">    -26.6963</td><td>N           </td><td style=\"text-align: right;\">    -6.10203</td><td style=\"text-align: right;\">536.082 </td><td style=\"text-align: right;\"> -157.93  </td><td style=\"text-align: right;\">     0.0017 </td><td style=\"text-align: right;\">    292.317 </td><td style=\"text-align: right;\">     64</td></tr>\n",
       "</tbody>\n",
       "</table>"
      ]
     },
     "metadata": {},
     "output_type": "display_data"
    },
    {
     "data": {
      "text/plain": []
     },
     "execution_count": 3,
     "metadata": {},
     "output_type": "execute_result"
    }
   ],
   "source": [
    "train.head()"
   ]
  },
  {
   "cell_type": "markdown",
   "metadata": {},
   "source": [
    "### Specifying x & y\n",
    "Now that we have the data loaded, we need to specify `x` & `y` (in other words - training features & lables). A cool feature about H2o's AutoML is that we only need to specify the column names for x & y along with an H2o dataframe (the one that we loaded above) for training.\n",
    "\n",
    "This saves us a lot of time in converting a dataframe to an array and then reshaping it to fit our model structure. So without any further ado let's proceed with the training!\n",
    "\n",
    "![](https://media.giphy.com/media/5fBH6zhaIxvlPxmKDT2/giphy.gif)\n",
    "\n"
   ]
  },
  {
   "cell_type": "code",
   "execution_count": 4,
   "metadata": {},
   "outputs": [
    {
     "data": {
      "text/plain": [
       "['C1',\n",
       " 'LONGITUDE_',\n",
       " 'LATITUDE_G',\n",
       " 'MINERAL_CL',\n",
       " 'gravity_ma',\n",
       " 'dem-9s',\n",
       " 'SA_TMI',\n",
       " 'gravity_1V',\n",
       " 'SA_TMI_VRT',\n",
       " 'd8-9s']"
      ]
     },
     "execution_count": 4,
     "metadata": {},
     "output_type": "execute_result"
    }
   ],
   "source": [
    "# Specifying the name of the y column\n",
    "y = \"MINERAL_CL\" \n",
    "x = train.columns \n",
    "x"
   ]
  },
  {
   "cell_type": "code",
   "execution_count": 5,
   "metadata": {},
   "outputs": [],
   "source": [
    "# Remove the columns we need to drop from our training frame.\n",
    "r_rows = ['C1',\n",
    " 'LONGITUDE_',\n",
    " 'LATITUDE_G',\n",
    " 'MINERAL_CL']\n",
    "\n",
    "for i in range(len(r_rows)):\n",
    "    # print(r_rows[i])\n",
    "    x.remove(r_rows[i])"
   ]
  },
  {
   "cell_type": "code",
   "execution_count": 20,
   "metadata": {},
   "outputs": [
    {
     "name": "stdout",
     "output_type": "stream",
     "text": [
      "AutoML progress: |████████████████████████████████████████████████████████| 100%\n"
     ]
    }
   ],
   "source": [
    "aml = H2OAutoML(max_runtime_secs=60*20, seed=1)\n",
    "aml.train(x=x,y=y, training_frame=train)"
   ]
  },
  {
   "cell_type": "code",
   "execution_count": 7,
   "metadata": {},
   "outputs": [
    {
     "data": {
      "text/html": [
       "<table>\n",
       "<thead>\n",
       "<tr><th>model_id                                           </th><th style=\"text-align: right;\">     auc</th><th style=\"text-align: right;\">  logloss</th><th style=\"text-align: right;\">   aucpr</th><th style=\"text-align: right;\">  mean_per_class_error</th><th style=\"text-align: right;\">    rmse</th><th style=\"text-align: right;\">      mse</th></tr>\n",
       "</thead>\n",
       "<tbody>\n",
       "<tr><td>StackedEnsemble_AllModels_AutoML_20200727_124044   </td><td style=\"text-align: right;\">0.974477</td><td style=\"text-align: right;\"> 0.206775</td><td style=\"text-align: right;\">0.96855 </td><td style=\"text-align: right;\">             0.0794594</td><td style=\"text-align: right;\">0.244633</td><td style=\"text-align: right;\">0.0598451</td></tr>\n",
       "<tr><td>StackedEnsemble_BestOfFamily_AutoML_20200727_124044</td><td style=\"text-align: right;\">0.974477</td><td style=\"text-align: right;\"> 0.206775</td><td style=\"text-align: right;\">0.96855 </td><td style=\"text-align: right;\">             0.0794594</td><td style=\"text-align: right;\">0.244633</td><td style=\"text-align: right;\">0.0598451</td></tr>\n",
       "<tr><td>XRT_1_AutoML_20200727_124044                       </td><td style=\"text-align: right;\">0.968238</td><td style=\"text-align: right;\"> 0.310829</td><td style=\"text-align: right;\">0.957845</td><td style=\"text-align: right;\">             0.0865591</td><td style=\"text-align: right;\">0.257452</td><td style=\"text-align: right;\">0.0662815</td></tr>\n",
       "<tr><td>DRF_1_AutoML_20200727_124044                       </td><td style=\"text-align: right;\">0.967498</td><td style=\"text-align: right;\"> 0.341058</td><td style=\"text-align: right;\">0.956753</td><td style=\"text-align: right;\">             0.0861919</td><td style=\"text-align: right;\">0.257144</td><td style=\"text-align: right;\">0.0661233</td></tr>\n",
       "<tr><td>XGBoost_2_AutoML_20200727_124044                   </td><td style=\"text-align: right;\">0.952623</td><td style=\"text-align: right;\"> 0.322326</td><td style=\"text-align: right;\">0.941681</td><td style=\"text-align: right;\">             0.114306 </td><td style=\"text-align: right;\">0.30492 </td><td style=\"text-align: right;\">0.0929761</td></tr>\n",
       "<tr><td>GBM_5_AutoML_20200727_124044                       </td><td style=\"text-align: right;\">0.940133</td><td style=\"text-align: right;\"> 0.448496</td><td style=\"text-align: right;\">0.923522</td><td style=\"text-align: right;\">             0.129502 </td><td style=\"text-align: right;\">0.369517</td><td style=\"text-align: right;\">0.136543 </td></tr>\n",
       "<tr><td>XGBoost_grid__1_AutoML_20200727_124044_model_1     </td><td style=\"text-align: right;\">0.937109</td><td style=\"text-align: right;\"> 0.321957</td><td style=\"text-align: right;\">0.922166</td><td style=\"text-align: right;\">             0.135476 </td><td style=\"text-align: right;\">0.314705</td><td style=\"text-align: right;\">0.0990389</td></tr>\n",
       "<tr><td>XGBoost_1_AutoML_20200727_124044                   </td><td style=\"text-align: right;\">0.935977</td><td style=\"text-align: right;\"> 0.36538 </td><td style=\"text-align: right;\">0.921319</td><td style=\"text-align: right;\">             0.136669 </td><td style=\"text-align: right;\">0.328868</td><td style=\"text-align: right;\">0.108154 </td></tr>\n",
       "<tr><td>GBM_4_AutoML_20200727_124044                       </td><td style=\"text-align: right;\">0.933944</td><td style=\"text-align: right;\"> 0.421054</td><td style=\"text-align: right;\">0.919515</td><td style=\"text-align: right;\">             0.138774 </td><td style=\"text-align: right;\">0.355434</td><td style=\"text-align: right;\">0.126333 </td></tr>\n",
       "<tr><td>GBM_3_AutoML_20200727_124044                       </td><td style=\"text-align: right;\">0.912445</td><td style=\"text-align: right;\"> 0.454956</td><td style=\"text-align: right;\">0.890158</td><td style=\"text-align: right;\">             0.165261 </td><td style=\"text-align: right;\">0.375382</td><td style=\"text-align: right;\">0.140912 </td></tr>\n",
       "</tbody>\n",
       "</table>"
      ]
     },
     "metadata": {},
     "output_type": "display_data"
    },
    {
     "data": {
      "text/plain": []
     },
     "execution_count": 7,
     "metadata": {},
     "output_type": "execute_result"
    }
   ],
   "source": [
    "lb = aml.leaderboard\n",
    "lb.head()"
   ]
  },
  {
   "cell_type": "code",
   "execution_count": 29,
   "metadata": {},
   "outputs": [
    {
     "data": {
      "text/html": [
       "<table>\n",
       "<thead>\n",
       "<tr><th>model_id                                           </th><th style=\"text-align: right;\">     auc</th><th style=\"text-align: right;\">  logloss</th><th style=\"text-align: right;\">   aucpr</th><th style=\"text-align: right;\">  mean_per_class_error</th><th style=\"text-align: right;\">    rmse</th><th style=\"text-align: right;\">      mse</th></tr>\n",
       "</thead>\n",
       "<tbody>\n",
       "<tr><td>StackedEnsemble_AllModels_AutoML_20200727_130454   </td><td style=\"text-align: right;\">0.977349</td><td style=\"text-align: right;\"> 0.195728</td><td style=\"text-align: right;\">0.972297</td><td style=\"text-align: right;\">             0.0753031</td><td style=\"text-align: right;\">0.237675</td><td style=\"text-align: right;\">0.0564893</td></tr>\n",
       "<tr><td>StackedEnsemble_BestOfFamily_AutoML_20200727_130454</td><td style=\"text-align: right;\">0.977349</td><td style=\"text-align: right;\"> 0.195728</td><td style=\"text-align: right;\">0.972297</td><td style=\"text-align: right;\">             0.0753031</td><td style=\"text-align: right;\">0.237675</td><td style=\"text-align: right;\">0.0564893</td></tr>\n",
       "<tr><td>DRF_1_AutoML_20200727_130454                       </td><td style=\"text-align: right;\">0.976129</td><td style=\"text-align: right;\"> 0.216466</td><td style=\"text-align: right;\">0.970375</td><td style=\"text-align: right;\">             0.0769354</td><td style=\"text-align: right;\">0.243678</td><td style=\"text-align: right;\">0.0593789</td></tr>\n",
       "<tr><td>XRT_1_AutoML_20200727_130454                       </td><td style=\"text-align: right;\">0.972935</td><td style=\"text-align: right;\"> 0.243863</td><td style=\"text-align: right;\">0.965447</td><td style=\"text-align: right;\">             0.0804539</td><td style=\"text-align: right;\">0.249788</td><td style=\"text-align: right;\">0.0623942</td></tr>\n",
       "<tr><td>XGBoost_2_AutoML_20200727_130454                   </td><td style=\"text-align: right;\">0.961389</td><td style=\"text-align: right;\"> 0.263156</td><td style=\"text-align: right;\">0.952788</td><td style=\"text-align: right;\">             0.101885 </td><td style=\"text-align: right;\">0.277815</td><td style=\"text-align: right;\">0.0771813</td></tr>\n",
       "<tr><td>GBM_5_AutoML_20200727_130454                       </td><td style=\"text-align: right;\">0.949435</td><td style=\"text-align: right;\"> 0.351741</td><td style=\"text-align: right;\">0.938337</td><td style=\"text-align: right;\">             0.120675 </td><td style=\"text-align: right;\">0.318762</td><td style=\"text-align: right;\">0.101609 </td></tr>\n",
       "<tr><td>XGBoost_1_AutoML_20200727_130454                   </td><td style=\"text-align: right;\">0.947571</td><td style=\"text-align: right;\"> 0.300069</td><td style=\"text-align: right;\">0.935833</td><td style=\"text-align: right;\">             0.12216  </td><td style=\"text-align: right;\">0.300862</td><td style=\"text-align: right;\">0.0905181</td></tr>\n",
       "<tr><td>XGBoost_grid__1_AutoML_20200727_130454_model_1     </td><td style=\"text-align: right;\">0.944831</td><td style=\"text-align: right;\"> 0.30148 </td><td style=\"text-align: right;\">0.931614</td><td style=\"text-align: right;\">             0.124733 </td><td style=\"text-align: right;\">0.303365</td><td style=\"text-align: right;\">0.0920301</td></tr>\n",
       "<tr><td>GBM_4_AutoML_20200727_130454                       </td><td style=\"text-align: right;\">0.942094</td><td style=\"text-align: right;\"> 0.349772</td><td style=\"text-align: right;\">0.929859</td><td style=\"text-align: right;\">             0.128643 </td><td style=\"text-align: right;\">0.32109 </td><td style=\"text-align: right;\">0.103099 </td></tr>\n",
       "<tr><td>GBM_grid__1_AutoML_20200727_130454_model_2         </td><td style=\"text-align: right;\">0.92922 </td><td style=\"text-align: right;\"> 0.35629 </td><td style=\"text-align: right;\">0.914609</td><td style=\"text-align: right;\">             0.146284 </td><td style=\"text-align: right;\">0.329473</td><td style=\"text-align: right;\">0.108552 </td></tr>\n",
       "</tbody>\n",
       "</table>"
      ]
     },
     "metadata": {},
     "output_type": "display_data"
    },
    {
     "data": {
      "text/plain": []
     },
     "execution_count": 29,
     "metadata": {},
     "output_type": "execute_result"
    }
   ],
   "source": [
    "aml.leaderboard"
   ]
  },
  {
   "cell_type": "code",
   "execution_count": 22,
   "metadata": {},
   "outputs": [],
   "source": [
    "# Get model ids for all models in the AutoML Leaderboard\n",
    "model_ids = list(aml.leaderboard['model_id'].as_data_frame().iloc[:,0])\n",
    "# Get the \"All Models\" Stacked Ensemble model\n",
    "se = h2o.get_model([mid for mid in model_ids if \"StackedEnsemble_AllModels\" in mid][0])\n",
    "# Get the Stacked Ensemble metalearner model\n",
    "metalearner = h2o.get_model(se.metalearner()['name'])"
   ]
  },
  {
   "cell_type": "code",
   "execution_count": 31,
   "metadata": {},
   "outputs": [
    {
     "data": {
      "text/plain": [
       "'/home/xavian/Downloads/The_Gawler_Challenge/exported/combined/saved_model/StackedEnsemble_AllModels_AutoML_20200727_130454'"
      ]
     },
     "execution_count": 31,
     "metadata": {},
     "output_type": "execute_result"
    }
   ],
   "source": [
    "h2o.save_model(aml.leader, path=\"./saved_model\")"
   ]
  },
  {
   "cell_type": "code",
   "execution_count": 23,
   "metadata": {},
   "outputs": [
    {
     "data": {
      "image/png": "[encoded data removed]",
      "text/plain": [
       "<Figure size 1008x720 with 1 Axes>"
      ]
     },
     "metadata": {
      "needs_background": "light"
     },
     "output_type": "display_data"
    }
   ],
   "source": [
    "import matplotlib\n",
    "%matplotlib inline\n",
    "metalearner.std_coef_plot()"
   ]
  },
  {
   "cell_type": "code",
   "execution_count": 16,
   "metadata": {},
   "outputs": [
    {
     "name": "stdout",
     "output_type": "stream",
     "text": [
      "stackedensemble prediction progress: |████████████████████████████████████| 100%\n"
     ]
    }
   ],
   "source": [
    "y_pred = aml.predict(train)\n",
    "y_pred = y_pred['predict'].as_data_frame().values.reshape(len(y_pred))"
   ]
  },
  {
   "cell_type": "code",
   "execution_count": 17,
   "metadata": {},
   "outputs": [],
   "source": [
    "y_true=train['MINERAL_CL'].as_data_frame().values\n",
    "y_true = y_true.reshape(len(y_true))"
   ]
  },
  {
   "cell_type": "code",
   "execution_count": 18,
   "metadata": {},
   "outputs": [
    {
     "data": {
      "text/plain": [
       "True"
      ]
     },
     "execution_count": 18,
     "metadata": {},
     "output_type": "execute_result"
    }
   ],
   "source": [
    "y_pred[0] == y_true[0]"
   ]
  },
  {
   "cell_type": "code",
   "execution_count": 19,
   "metadata": {},
   "outputs": [
    {
     "name": "stdout",
     "output_type": "stream",
     "text": [
      "0.9652314834749727\n"
     ]
    }
   ],
   "source": [
    "a = 0\n",
    "for i in range(len(y_true)):\n",
    "    if y_pred[i] == y_true[i]:\n",
    "        a+=1\n",
    "        \n",
    "\n",
    "print(a/len(y_true))"
   ]
  },
  {
   "cell_type": "code",
   "execution_count": 117,
   "metadata": {},
   "outputs": [
    {
     "data": {
      "text/plain": [
       "array([['yes'],\n",
       "       ['no'],\n",
       "       ['no'],\n",
       "       ...,\n",
       "       ['no'],\n",
       "       ['no'],\n",
       "       ['no']], dtype=object)"
      ]
     },
     "execution_count": 117,
     "metadata": {},
     "output_type": "execute_result"
    }
   ],
   "source": [
    "pred['predict'].as_data_frame().values"
   ]
  },
  {
   "cell_type": "code",
   "execution_count": null,
   "metadata": {},
   "outputs": [],
   "source": [
    "model_path = h2o.save_model(model=aml, path=\"/saved_model_20_min\", force=True)"
   ]
  },
  {
   "cell_type": "code",
   "execution_count": 155,
   "metadata": {},
   "outputs": [
    {
     "data": {
      "text/html": [
       "<div>\n",
       "<style scoped>\n",
       "    .dataframe tbody tr th:only-of-type {\n",
       "        vertical-align: middle;\n",
       "    }\n",
       "\n",
       "    .dataframe tbody tr th {\n",
       "        vertical-align: top;\n",
       "    }\n",
       "\n",
       "    .dataframe thead th {\n",
       "        text-align: right;\n",
       "    }\n",
       "</style>\n",
       "<table border=\"1\" class=\"dataframe\">\n",
       "  <thead>\n",
       "    <tr style=\"text-align: right;\">\n",
       "      <th></th>\n",
       "      <th>variable</th>\n",
       "      <th>relative_importance</th>\n",
       "      <th>scaled_importance</th>\n",
       "      <th>percentage</th>\n",
       "    </tr>\n",
       "  </thead>\n",
       "  <tbody>\n",
       "    <tr>\n",
       "      <th>0</th>\n",
       "      <td>dem-9s</td>\n",
       "      <td>119779.539062</td>\n",
       "      <td>1.000000</td>\n",
       "      <td>0.408038</td>\n",
       "    </tr>\n",
       "    <tr>\n",
       "      <th>1</th>\n",
       "      <td>SA_RAD_DOS</td>\n",
       "      <td>52932.183594</td>\n",
       "      <td>0.441913</td>\n",
       "      <td>0.180317</td>\n",
       "    </tr>\n",
       "    <tr>\n",
       "      <th>2</th>\n",
       "      <td>gravity_ma</td>\n",
       "      <td>39166.226562</td>\n",
       "      <td>0.326986</td>\n",
       "      <td>0.133423</td>\n",
       "    </tr>\n",
       "    <tr>\n",
       "      <th>3</th>\n",
       "      <td>SA_TMI_VRT</td>\n",
       "      <td>31434.869141</td>\n",
       "      <td>0.262439</td>\n",
       "      <td>0.107085</td>\n",
       "    </tr>\n",
       "    <tr>\n",
       "      <th>4</th>\n",
       "      <td>SA_TMI</td>\n",
       "      <td>24329.259766</td>\n",
       "      <td>0.203117</td>\n",
       "      <td>0.082879</td>\n",
       "    </tr>\n",
       "    <tr>\n",
       "      <th>5</th>\n",
       "      <td>gravity_1V</td>\n",
       "      <td>18932.708984</td>\n",
       "      <td>0.158063</td>\n",
       "      <td>0.064496</td>\n",
       "    </tr>\n",
       "    <tr>\n",
       "      <th>6</th>\n",
       "      <td>d8-9s</td>\n",
       "      <td>6975.341797</td>\n",
       "      <td>0.058235</td>\n",
       "      <td>0.023762</td>\n",
       "    </tr>\n",
       "  </tbody>\n",
       "</table>\n",
       "</div>"
      ],
      "text/plain": [
       "     variable  relative_importance  scaled_importance  percentage\n",
       "0      dem-9s        119779.539062           1.000000    0.408038\n",
       "1  SA_RAD_DOS         52932.183594           0.441913    0.180317\n",
       "2  gravity_ma         39166.226562           0.326986    0.133423\n",
       "3  SA_TMI_VRT         31434.869141           0.262439    0.107085\n",
       "4      SA_TMI         24329.259766           0.203117    0.082879\n",
       "5  gravity_1V         18932.708984           0.158063    0.064496\n",
       "6       d8-9s          6975.341797           0.058235    0.023762"
      ]
     },
     "execution_count": 155,
     "metadata": {},
     "output_type": "execute_result"
    }
   ],
   "source": [
    "m.varimp(use_pandas=True)"
   ]
  },
  {
   "cell_type": "code",
   "execution_count": null,
   "metadata": {},
   "outputs": [],
   "source": []
  }
 ],
 "metadata": {
  "kernelspec": {
   "display_name": "Python [conda env:gawler] *",
   "language": "python",
   "name": "conda-env-gawler-py"
  },
  "language_info": {
   "codemirror_mode": {
    "name": "ipython",
    "version": 3
   },
   "file_extension": ".py",
   "mimetype": "text/x-python",
   "name": "python",
   "nbconvert_exporter": "python",
   "pygments_lexer": "ipython3",
   "version": "3.6.11"
  }
 },
 "nbformat": 4,
 "nbformat_minor": 4
}
